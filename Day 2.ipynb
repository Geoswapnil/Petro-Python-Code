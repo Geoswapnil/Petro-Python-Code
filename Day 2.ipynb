{
 "cells": [
  {
   "cell_type": "code",
   "execution_count": 1,
   "id": "00f98838",
   "metadata": {},
   "outputs": [
    {
     "name": "stdout",
     "output_type": "stream",
     "text": [
      "hi its swapnil\n"
     ]
    }
   ],
   "source": [
    "print(\"hi its swapnil\")"
   ]
  },
  {
   "cell_type": "code",
   "execution_count": 2,
   "id": "47518829",
   "metadata": {},
   "outputs": [
    {
     "name": "stdout",
     "output_type": "stream",
     "text": [
      "its vicky\n"
     ]
    }
   ],
   "source": [
    "print('its vicky')"
   ]
  },
  {
   "cell_type": "code",
   "execution_count": 3,
   "id": "b1607d8f",
   "metadata": {},
   "outputs": [
    {
     "name": "stdout",
     "output_type": "stream",
     "text": [
      "12323\n"
     ]
    }
   ],
   "source": [
    "print(12323)"
   ]
  },
  {
   "cell_type": "code",
   "execution_count": 4,
   "id": "ecc5446b",
   "metadata": {},
   "outputs": [
    {
     "name": "stdout",
     "output_type": "stream",
     "text": [
      "2.44342343242\n"
     ]
    }
   ],
   "source": [
    "print(2.44342343242)"
   ]
  },
  {
   "cell_type": "code",
   "execution_count": 5,
   "id": "3eec1f68",
   "metadata": {},
   "outputs": [
    {
     "ename": "NameError",
     "evalue": "name 'sadajdkaj1j23131' is not defined",
     "output_type": "error",
     "traceback": [
      "\u001b[1;31m---------------------------------------------------------------------------\u001b[0m",
      "\u001b[1;31mNameError\u001b[0m                                 Traceback (most recent call last)",
      "Cell \u001b[1;32mIn[5], line 1\u001b[0m\n\u001b[1;32m----> 1\u001b[0m \u001b[38;5;28mprint\u001b[39m(\u001b[43msadajdkaj1j23131\u001b[49m)\n",
      "\u001b[1;31mNameError\u001b[0m: name 'sadajdkaj1j23131' is not defined"
     ]
    }
   ],
   "source": [
    "print(sadajdkaj1j23131)"
   ]
  },
  {
   "cell_type": "code",
   "execution_count": 6,
   "id": "d7928dc1",
   "metadata": {},
   "outputs": [
    {
     "name": "stdout",
     "output_type": "stream",
     "text": [
      "howis your day doing? \n",
      "Wish it could wbe here\n"
     ]
    }
   ],
   "source": [
    "print(\"howis your day doing? \\nWish it could wbe here\")"
   ]
  },
  {
   "cell_type": "code",
   "execution_count": null,
   "id": "b746d8a9",
   "metadata": {
    "collapsed": true
   },
   "outputs": [],
   "source": [
    "#you can add comments anywhere"
   ]
  },
  {
   "cell_type": "code",
   "execution_count": 9,
   "id": "aa8af63e",
   "metadata": {},
   "outputs": [
    {
     "name": "stdout",
     "output_type": "stream",
     "text": [
      "Ram shyam \n",
      "its me Swapnil \n",
      "How could be a ,...............................geologist?\n"
     ]
    }
   ],
   "source": [
    "print(\"Ram shyam \\nits me Swapnil \\nHow could be a ,...............................geologist?\")"
   ]
  },
  {
   "cell_type": "code",
   "execution_count": 10,
   "id": "bd9f0be7",
   "metadata": {},
   "outputs": [],
   "source": [
    "#data Type"
   ]
  },
  {
   "cell_type": "code",
   "execution_count": 11,
   "id": "d024c290",
   "metadata": {},
   "outputs": [
    {
     "data": {
      "text/plain": [
       "int"
      ]
     },
     "execution_count": 11,
     "metadata": {},
     "output_type": "execute_result"
    }
   ],
   "source": [
    "type(56)"
   ]
  },
  {
   "cell_type": "code",
   "execution_count": 13,
   "id": "f1b3ac54",
   "metadata": {},
   "outputs": [
    {
     "data": {
      "text/plain": [
       "float"
      ]
     },
     "execution_count": 13,
     "metadata": {},
     "output_type": "execute_result"
    }
   ],
   "source": [
    "type(27.23)"
   ]
  },
  {
   "cell_type": "code",
   "execution_count": 14,
   "id": "6776578c",
   "metadata": {},
   "outputs": [
    {
     "ename": "SyntaxError",
     "evalue": "invalid decimal literal (126793142.py, line 1)",
     "output_type": "error",
     "traceback": [
      "\u001b[1;36m  Cell \u001b[1;32mIn[14], line 1\u001b[1;36m\u001b[0m\n\u001b[1;33m    type(2mkdj)\u001b[0m\n\u001b[1;37m         ^\u001b[0m\n\u001b[1;31mSyntaxError\u001b[0m\u001b[1;31m:\u001b[0m invalid decimal literal\n"
     ]
    }
   ],
   "source": [
    "type(2mkdj)"
   ]
  },
  {
   "cell_type": "code",
   "execution_count": 15,
   "id": "ec7c7d0b",
   "metadata": {},
   "outputs": [
    {
     "ename": "NameError",
     "evalue": "name 'true' is not defined",
     "output_type": "error",
     "traceback": [
      "\u001b[1;31m---------------------------------------------------------------------------\u001b[0m",
      "\u001b[1;31mNameError\u001b[0m                                 Traceback (most recent call last)",
      "Cell \u001b[1;32mIn[15], line 1\u001b[0m\n\u001b[1;32m----> 1\u001b[0m \u001b[43mtrue\u001b[49m\n",
      "\u001b[1;31mNameError\u001b[0m: name 'true' is not defined"
     ]
    }
   ],
   "source": [
    "true"
   ]
  },
  {
   "cell_type": "code",
   "execution_count": 16,
   "id": "44ad68f6",
   "metadata": {},
   "outputs": [
    {
     "data": {
      "text/plain": [
       "True"
      ]
     },
     "execution_count": 16,
     "metadata": {},
     "output_type": "execute_result"
    }
   ],
   "source": [
    "True"
   ]
  },
  {
   "cell_type": "code",
   "execution_count": 17,
   "id": "c5747602",
   "metadata": {},
   "outputs": [
    {
     "data": {
      "text/plain": [
       "bool"
      ]
     },
     "execution_count": 17,
     "metadata": {},
     "output_type": "execute_result"
    }
   ],
   "source": [
    "type(True)"
   ]
  },
  {
   "cell_type": "code",
   "execution_count": 18,
   "id": "bf247031",
   "metadata": {},
   "outputs": [
    {
     "ename": "SyntaxError",
     "evalue": "invalid syntax (2383324203.py, line 1)",
     "output_type": "error",
     "traceback": [
      "\u001b[1;36m  Cell \u001b[1;32mIn[18], line 1\u001b[1;36m\u001b[0m\n\u001b[1;33m    print(Type'True')\u001b[0m\n\u001b[1;37m              ^\u001b[0m\n\u001b[1;31mSyntaxError\u001b[0m\u001b[1;31m:\u001b[0m invalid syntax\n"
     ]
    }
   ],
   "source": [
    "print(Type'True')"
   ]
  },
  {
   "cell_type": "code",
   "execution_count": 19,
   "id": "90170305",
   "metadata": {},
   "outputs": [
    {
     "ename": "SyntaxError",
     "evalue": "leading zeros in decimal integer literals are not permitted; use an 0o prefix for octal integers (202258214.py, line 1)",
     "output_type": "error",
     "traceback": [
      "\u001b[1;36m  Cell \u001b[1;32mIn[19], line 1\u001b[1;36m\u001b[0m\n\u001b[1;33m    33+02930\u001b[0m\n\u001b[1;37m       ^\u001b[0m\n\u001b[1;31mSyntaxError\u001b[0m\u001b[1;31m:\u001b[0m leading zeros in decimal integer literals are not permitted; use an 0o prefix for octal integers\n"
     ]
    }
   ],
   "source": [
    "33+02930"
   ]
  },
  {
   "cell_type": "code",
   "execution_count": 20,
   "id": "80f40248",
   "metadata": {},
   "outputs": [
    {
     "data": {
      "text/plain": [
       "257"
      ]
     },
     "execution_count": 20,
     "metadata": {},
     "output_type": "execute_result"
    }
   ],
   "source": [
    "223+34"
   ]
  },
  {
   "cell_type": "code",
   "execution_count": 21,
   "id": "d5fff384",
   "metadata": {},
   "outputs": [
    {
     "data": {
      "text/plain": [
       "0.023778642455685256"
      ]
     },
     "execution_count": 21,
     "metadata": {},
     "output_type": "execute_result"
    }
   ],
   "source": [
    "55/2313"
   ]
  },
  {
   "cell_type": "code",
   "execution_count": 22,
   "id": "7704582a",
   "metadata": {},
   "outputs": [
    {
     "data": {
      "text/plain": [
       "18"
      ]
     },
     "execution_count": 22,
     "metadata": {},
     "output_type": "execute_result"
    }
   ],
   "source": [
    "231-213"
   ]
  },
  {
   "cell_type": "code",
   "execution_count": 23,
   "id": "5a837a02",
   "metadata": {},
   "outputs": [
    {
     "data": {
      "text/plain": [
       "5.0"
      ]
     },
     "execution_count": 23,
     "metadata": {},
     "output_type": "execute_result"
    }
   ],
   "source": [
    "10/2"
   ]
  },
  {
   "cell_type": "code",
   "execution_count": 24,
   "id": "c9172e17",
   "metadata": {},
   "outputs": [
    {
     "data": {
      "text/plain": [
       "1.0"
      ]
     },
     "execution_count": 24,
     "metadata": {},
     "output_type": "execute_result"
    }
   ],
   "source": [
    "1/1"
   ]
  },
  {
   "cell_type": "code",
   "execution_count": 25,
   "id": "36431574",
   "metadata": {},
   "outputs": [
    {
     "data": {
      "text/plain": [
       "2131231313123126"
      ]
     },
     "execution_count": 25,
     "metadata": {},
     "output_type": "execute_result"
    }
   ],
   "source": [
    "3+2131231313123123"
   ]
  },
  {
   "cell_type": "code",
   "execution_count": 26,
   "id": "a7eee5d5",
   "metadata": {},
   "outputs": [
    {
     "data": {
      "text/plain": [
       "31554069410166784716948381006719104645679168333707014148159955654095620003038210655940374343263666221229716082761178477507402044343197493306872915473023012714135004623312243990373814063284335404069500895500778828829032406540233465357402112"
      ]
     },
     "execution_count": 26,
     "metadata": {},
     "output_type": "execute_result"
    }
   ],
   "source": [
    "12**221"
   ]
  },
  {
   "cell_type": "code",
   "execution_count": 27,
   "id": "186fea89",
   "metadata": {},
   "outputs": [
    {
     "data": {
      "text/plain": [
       "5"
      ]
     },
     "execution_count": 27,
     "metadata": {},
     "output_type": "execute_result"
    }
   ],
   "source": [
    "31//6"
   ]
  },
  {
   "cell_type": "code",
   "execution_count": null,
   "id": "bb0fec75",
   "metadata": {},
   "outputs": [],
   "source": []
  },
  {
   "cell_type": "code",
   "execution_count": 28,
   "id": "fe5373fa",
   "metadata": {},
   "outputs": [
    {
     "data": {
      "text/plain": [
       "3"
      ]
     },
     "execution_count": 28,
     "metadata": {},
     "output_type": "execute_result"
    }
   ],
   "source": [
    "21%6"
   ]
  },
  {
   "cell_type": "code",
   "execution_count": 29,
   "id": "3870e5ec",
   "metadata": {},
   "outputs": [
    {
     "data": {
      "text/plain": [
       "'56'"
      ]
     },
     "execution_count": 29,
     "metadata": {},
     "output_type": "execute_result"
    }
   ],
   "source": [
    "\"5\"+\"6\""
   ]
  },
  {
   "cell_type": "code",
   "execution_count": 30,
   "id": "b09ead0e",
   "metadata": {},
   "outputs": [
    {
     "data": {
      "text/plain": [
       "'afa3'"
      ]
     },
     "execution_count": 30,
     "metadata": {},
     "output_type": "execute_result"
    }
   ],
   "source": [
    "\"afa\"+\"3\""
   ]
  },
  {
   "cell_type": "code",
   "execution_count": 31,
   "id": "3f1fc7e0",
   "metadata": {},
   "outputs": [
    {
     "ename": "TypeError",
     "evalue": "can't multiply sequence by non-int of type 'str'",
     "output_type": "error",
     "traceback": [
      "\u001b[1;31m---------------------------------------------------------------------------\u001b[0m",
      "\u001b[1;31mTypeError\u001b[0m                                 Traceback (most recent call last)",
      "Cell \u001b[1;32mIn[31], line 1\u001b[0m\n\u001b[1;32m----> 1\u001b[0m \u001b[38;5;124;43m\"\u001b[39;49m\u001b[38;5;124;43m3\u001b[39;49m\u001b[38;5;124;43m\"\u001b[39;49m\u001b[38;5;241;43m*\u001b[39;49m\u001b[38;5;124;43m\"\u001b[39;49m\u001b[38;5;124;43m3\u001b[39;49m\u001b[38;5;124;43m\"\u001b[39;49m\n",
      "\u001b[1;31mTypeError\u001b[0m: can't multiply sequence by non-int of type 'str'"
     ]
    }
   ],
   "source": [
    "\"3\"*\"3\""
   ]
  },
  {
   "cell_type": "code",
   "execution_count": 32,
   "id": "00ff1b06",
   "metadata": {},
   "outputs": [
    {
     "data": {
      "text/plain": [
       "'22132213'"
      ]
     },
     "execution_count": 32,
     "metadata": {},
     "output_type": "execute_result"
    }
   ],
   "source": [
    "\"2213\"*2"
   ]
  },
  {
   "cell_type": "code",
   "execution_count": 33,
   "id": "c1168ae2",
   "metadata": {},
   "outputs": [
    {
     "data": {
      "text/plain": [
       "False"
      ]
     },
     "execution_count": 33,
     "metadata": {},
     "output_type": "execute_result"
    }
   ],
   "source": [
    "12>21321"
   ]
  },
  {
   "cell_type": "code",
   "execution_count": 34,
   "id": "9b67d525",
   "metadata": {},
   "outputs": [
    {
     "data": {
      "text/plain": [
       "True"
      ]
     },
     "execution_count": 34,
     "metadata": {},
     "output_type": "execute_result"
    }
   ],
   "source": [
    "22<23"
   ]
  },
  {
   "cell_type": "code",
   "execution_count": 35,
   "id": "372aa798",
   "metadata": {},
   "outputs": [
    {
     "ename": "SyntaxError",
     "evalue": "cannot assign to literal here. Maybe you meant '==' instead of '='? (708342180.py, line 1)",
     "output_type": "error",
     "traceback": [
      "\u001b[1;36m  Cell \u001b[1;32mIn[35], line 1\u001b[1;36m\u001b[0m\n\u001b[1;33m    12=12\u001b[0m\n\u001b[1;37m    ^\u001b[0m\n\u001b[1;31mSyntaxError\u001b[0m\u001b[1;31m:\u001b[0m cannot assign to literal here. Maybe you meant '==' instead of '='?\n"
     ]
    }
   ],
   "source": [
    "12=12"
   ]
  },
  {
   "cell_type": "code",
   "execution_count": 36,
   "id": "487557bd",
   "metadata": {},
   "outputs": [
    {
     "data": {
      "text/plain": [
       "True"
      ]
     },
     "execution_count": 36,
     "metadata": {},
     "output_type": "execute_result"
    }
   ],
   "source": [
    "12==12"
   ]
  },
  {
   "cell_type": "code",
   "execution_count": 37,
   "id": "264357d4",
   "metadata": {},
   "outputs": [
    {
     "data": {
      "text/plain": [
       "False"
      ]
     },
     "execution_count": 37,
     "metadata": {},
     "output_type": "execute_result"
    }
   ],
   "source": [
    "12>21 & 22>12"
   ]
  },
  {
   "cell_type": "code",
   "execution_count": 38,
   "id": "ef8f41e7",
   "metadata": {},
   "outputs": [
    {
     "data": {
      "text/plain": [
       "True"
      ]
     },
     "execution_count": 38,
     "metadata": {},
     "output_type": "execute_result"
    }
   ],
   "source": [
    "222<223 or 22>19"
   ]
  },
  {
   "cell_type": "code",
   "execution_count": 39,
   "id": "fdd346c1",
   "metadata": {},
   "outputs": [
    {
     "ename": "NameError",
     "evalue": "name 'b' is not defined",
     "output_type": "error",
     "traceback": [
      "\u001b[1;31m---------------------------------------------------------------------------\u001b[0m",
      "\u001b[1;31mNameError\u001b[0m                                 Traceback (most recent call last)",
      "Cell \u001b[1;32mIn[39], line 1\u001b[0m\n\u001b[1;32m----> 1\u001b[0m \u001b[43mb\u001b[49m \u001b[38;5;241m==\u001b[39m jack\n",
      "\u001b[1;31mNameError\u001b[0m: name 'b' is not defined"
     ]
    }
   ],
   "source": [
    "b == jack"
   ]
  },
  {
   "cell_type": "code",
   "execution_count": 40,
   "id": "f8b6a264",
   "metadata": {},
   "outputs": [
    {
     "ename": "NameError",
     "evalue": "name 'g' is not defined",
     "output_type": "error",
     "traceback": [
      "\u001b[1;31m---------------------------------------------------------------------------\u001b[0m",
      "\u001b[1;31mNameError\u001b[0m                                 Traceback (most recent call last)",
      "Cell \u001b[1;32mIn[40], line 1\u001b[0m\n\u001b[1;32m----> 1\u001b[0m \u001b[43mg\u001b[49m \u001b[38;5;241m==\u001b[39m \u001b[38;5;241m2829\u001b[39m\n",
      "\u001b[1;31mNameError\u001b[0m: name 'g' is not defined"
     ]
    }
   ],
   "source": [
    "g == 2829"
   ]
  },
  {
   "cell_type": "code",
   "execution_count": 43,
   "id": "1435774c",
   "metadata": {},
   "outputs": [],
   "source": [
    "j = 89201"
   ]
  },
  {
   "cell_type": "code",
   "execution_count": 44,
   "id": "68727549",
   "metadata": {},
   "outputs": [
    {
     "ename": "SyntaxError",
     "evalue": "cannot assign to literal here. Maybe you meant '==' instead of '='? (1125555186.py, line 1)",
     "output_type": "error",
     "traceback": [
      "\u001b[1;36m  Cell \u001b[1;32mIn[44], line 1\u001b[1;36m\u001b[0m\n\u001b[1;33m    2 = 22\u001b[0m\n\u001b[1;37m    ^\u001b[0m\n\u001b[1;31mSyntaxError\u001b[0m\u001b[1;31m:\u001b[0m cannot assign to literal here. Maybe you meant '==' instead of '='?\n"
     ]
    }
   ],
   "source": [
    "2 = 22"
   ]
  },
  {
   "cell_type": "code",
   "execution_count": 54,
   "id": "1e785b5a",
   "metadata": {},
   "outputs": [],
   "source": [
    "l = 222"
   ]
  },
  {
   "cell_type": "code",
   "execution_count": 55,
   "id": "fada83e3",
   "metadata": {},
   "outputs": [
    {
     "name": "stdout",
     "output_type": "stream",
     "text": [
      "adajd\n"
     ]
    }
   ],
   "source": [
    "print(\"adajd\")\n",
    "      \n",
    "         "
   ]
  },
  {
   "cell_type": "code",
   "execution_count": 56,
   "id": "3731b1d7",
   "metadata": {},
   "outputs": [],
   "source": [
    "h = 22"
   ]
  },
  {
   "cell_type": "code",
   "execution_count": 57,
   "id": "e688cc24",
   "metadata": {},
   "outputs": [
    {
     "ename": "NameError",
     "evalue": "name 'asd' is not defined",
     "output_type": "error",
     "traceback": [
      "\u001b[1;31m---------------------------------------------------------------------------\u001b[0m",
      "\u001b[1;31mNameError\u001b[0m                                 Traceback (most recent call last)",
      "Cell \u001b[1;32mIn[57], line 1\u001b[0m\n\u001b[1;32m----> 1\u001b[0m \u001b[43masd\u001b[49m\n",
      "\u001b[1;31mNameError\u001b[0m: name 'asd' is not defined"
     ]
    }
   ],
   "source": [
    "asd"
   ]
  },
  {
   "cell_type": "code",
   "execution_count": null,
   "id": "5682de9d",
   "metadata": {},
   "outputs": [],
   "source": [
    "## Questions:\n",
    "\n",
    "1. Print your name: First name in first line, last name in next line\n",
    "\n",
    "2. What is the output of:\n",
    "\n",
    "    a. 122*3\n",
    "    \n",
    "    b. \"122\"*3\n",
    "    \n",
    "    c.type(\"3456gvdcf\"*6)\n",
    "    \n",
    "    d.print(\"Oil\"+\"Analytics\")\n",
    "    \n",
    "    \n",
    "3. What is the remainder of 1256473 divided by 72"
   ]
  },
  {
   "cell_type": "code",
   "execution_count": null,
   "id": "7bd7806e",
   "metadata": {},
   "outputs": [],
   "source": [
    "print (\"Swapnil \\nDeshmukh\")"
   ]
  },
  {
   "cell_type": "code",
   "execution_count": 1,
   "id": "dd16f565",
   "metadata": {},
   "outputs": [
    {
     "name": "stdout",
     "output_type": "stream",
     "text": [
      "Swapnil\n"
     ]
    }
   ],
   "source": [
    "print (\"Swapnil\")"
   ]
  },
  {
   "cell_type": "code",
   "execution_count": 2,
   "id": "3d3f04a8",
   "metadata": {},
   "outputs": [
    {
     "name": "stdout",
     "output_type": "stream",
     "text": [
      "Swapnil \n",
      "Deshmukh\n"
     ]
    }
   ],
   "source": [
    "print (\"Swapnil \\nDeshmukh\")"
   ]
  },
  {
   "cell_type": "code",
   "execution_count": 3,
   "id": "c0b0b27c",
   "metadata": {},
   "outputs": [
    {
     "data": {
      "text/plain": [
       "366"
      ]
     },
     "execution_count": 3,
     "metadata": {},
     "output_type": "execute_result"
    }
   ],
   "source": [
    "122*3"
   ]
  },
  {
   "cell_type": "code",
   "execution_count": 5,
   "id": "f512da8a",
   "metadata": {},
   "outputs": [
    {
     "data": {
      "text/plain": [
       "'122122122'"
      ]
     },
     "execution_count": 5,
     "metadata": {},
     "output_type": "execute_result"
    }
   ],
   "source": [
    "\"122\"*3"
   ]
  },
  {
   "cell_type": "code",
   "execution_count": 7,
   "id": "fc792ba4",
   "metadata": {},
   "outputs": [
    {
     "data": {
      "text/plain": [
       "str"
      ]
     },
     "execution_count": 7,
     "metadata": {},
     "output_type": "execute_result"
    }
   ],
   "source": [
    "type(\"3456gvdcf\"*6)"
   ]
  },
  {
   "cell_type": "code",
   "execution_count": 9,
   "id": "1de85f9c",
   "metadata": {},
   "outputs": [
    {
     "name": "stdout",
     "output_type": "stream",
     "text": [
      "OilAnalytics\n"
     ]
    }
   ],
   "source": [
    "print(\"Oil\"+\"Analytics\")"
   ]
  },
  {
   "cell_type": "code",
   "execution_count": 11,
   "id": "016684af",
   "metadata": {},
   "outputs": [
    {
     "name": "stdout",
     "output_type": "stream",
     "text": [
      "OilAnalytics\n"
     ]
    }
   ],
   "source": [
    "print(\"Oil\" + \"Analytics\")"
   ]
  },
  {
   "cell_type": "code",
   "execution_count": 12,
   "id": "b746c717",
   "metadata": {},
   "outputs": [
    {
     "data": {
      "text/plain": [
       "1"
      ]
     },
     "execution_count": 12,
     "metadata": {},
     "output_type": "execute_result"
    }
   ],
   "source": [
    "1256473%72"
   ]
  }
 ],
 "metadata": {
  "kernelspec": {
   "display_name": "Python 3 (ipykernel)",
   "language": "python",
   "name": "python3"
  },
  "language_info": {
   "codemirror_mode": {
    "name": "ipython",
    "version": 3
   },
   "file_extension": ".py",
   "mimetype": "text/x-python",
   "name": "python",
   "nbconvert_exporter": "python",
   "pygments_lexer": "ipython3",
   "version": "3.10.9"
  }
 },
 "nbformat": 4,
 "nbformat_minor": 5
}
