{
 "cells": [
  {
   "cell_type": "code",
   "execution_count": 3,
   "id": "73f014da",
   "metadata": {},
   "outputs": [],
   "source": [
    "porosity = [1.2, 2.33, 20, 'absent', 22, 93.09, 'present']"
   ]
  },
  {
   "cell_type": "code",
   "execution_count": 4,
   "id": "4037d447",
   "metadata": {},
   "outputs": [],
   "source": [
    "porosity = [1.2, 2.33, 20, 'absent', 22, 93.09, 'present']"
   ]
  },
  {
   "cell_type": "code",
   "execution_count": 6,
   "id": "e005560b",
   "metadata": {},
   "outputs": [
    {
     "data": {
      "text/plain": [
       "[1.2, 2.33, 20, 'absent', 22, 93.09, 'present']"
      ]
     },
     "execution_count": 6,
     "metadata": {},
     "output_type": "execute_result"
    }
   ],
   "source": [
    "porosity"
   ]
  },
  {
   "cell_type": "code",
   "execution_count": 8,
   "id": "97f7fd08",
   "metadata": {},
   "outputs": [
    {
     "data": {
      "text/plain": [
       "list"
      ]
     },
     "execution_count": 8,
     "metadata": {},
     "output_type": "execute_result"
    }
   ],
   "source": [
    "type(porosity)"
   ]
  },
  {
   "cell_type": "code",
   "execution_count": 9,
   "id": "0dea2d22",
   "metadata": {},
   "outputs": [
    {
     "ename": "TypeError",
     "evalue": "'list' object is not callable",
     "output_type": "error",
     "traceback": [
      "\u001b[1;31m---------------------------------------------------------------------------\u001b[0m",
      "\u001b[1;31mTypeError\u001b[0m                                 Traceback (most recent call last)",
      "Cell \u001b[1;32mIn[9], line 1\u001b[0m\n\u001b[1;32m----> 1\u001b[0m \u001b[38;5;28mtype\u001b[39m(\u001b[43mporosity\u001b[49m\u001b[43m(\u001b[49m\u001b[38;5;241;43m1\u001b[39;49m\u001b[43m)\u001b[49m)\n",
      "\u001b[1;31mTypeError\u001b[0m: 'list' object is not callable"
     ]
    }
   ],
   "source": [
    "type(porosity(1))"
   ]
  },
  {
   "cell_type": "code",
   "execution_count": 12,
   "id": "e3d226c7",
   "metadata": {},
   "outputs": [
    {
     "data": {
      "text/plain": [
       "22"
      ]
     },
     "execution_count": 12,
     "metadata": {},
     "output_type": "execute_result"
    }
   ],
   "source": [
    "porosity [4]"
   ]
  },
  {
   "cell_type": "code",
   "execution_count": 16,
   "id": "e31db2e0",
   "metadata": {},
   "outputs": [
    {
     "ename": "SyntaxError",
     "evalue": "unterminated string literal (detected at line 1) (1944897467.py, line 1)",
     "output_type": "error",
     "traceback": [
      "\u001b[1;36m  Cell \u001b[1;32mIn[16], line 1\u001b[1;36m\u001b[0m\n\u001b[1;33m    s = [2.3, 'jack', 'vicky', 892.34, 'oil', [ 'nampy', 'lack', 229.333, 88.22, 7281, [ 'arm', 'geology, 28], 6], 4]\u001b[0m\n\u001b[1;37m                                                                                                ^\u001b[0m\n\u001b[1;31mSyntaxError\u001b[0m\u001b[1;31m:\u001b[0m unterminated string literal (detected at line 1)\n"
     ]
    }
   ],
   "source": [
    "s = [2.3, 'jack', 'vicky', 892.34, 'oil', [ 'nampy', 'lack', 229.333, 88.22, 7281, [ 'arm', 'geology, 28], 6], 4]"
   ]
  },
  {
   "cell_type": "code",
   "execution_count": 17,
   "id": "1122ec1d",
   "metadata": {},
   "outputs": [
    {
     "ename": "NameError",
     "evalue": "name 's' is not defined",
     "output_type": "error",
     "traceback": [
      "\u001b[1;31m---------------------------------------------------------------------------\u001b[0m",
      "\u001b[1;31mNameError\u001b[0m                                 Traceback (most recent call last)",
      "Cell \u001b[1;32mIn[17], line 1\u001b[0m\n\u001b[1;32m----> 1\u001b[0m \u001b[43ms\u001b[49m [\u001b[38;5;241m5\u001b[39m][\u001b[38;5;241m5\u001b[39m][\u001b[38;5;241m2\u001b[39m]\n",
      "\u001b[1;31mNameError\u001b[0m: name 's' is not defined"
     ]
    }
   ],
   "source": [
    "s [5][5][2]"
   ]
  },
  {
   "cell_type": "code",
   "execution_count": 20,
   "id": "f040491d",
   "metadata": {},
   "outputs": [],
   "source": [
    "s = [2.3,'jack','vicky',892.34,'oil',['nampy','lack',229.333,88.22,7281,['arm','geology',28],6],4]"
   ]
  },
  {
   "cell_type": "code",
   "execution_count": 21,
   "id": "11950b3e",
   "metadata": {},
   "outputs": [
    {
     "data": {
      "text/plain": [
       "28"
      ]
     },
     "execution_count": 21,
     "metadata": {},
     "output_type": "execute_result"
    }
   ],
   "source": [
    "s[5][5][2]"
   ]
  },
  {
   "cell_type": "code",
   "execution_count": 22,
   "id": "dea7cd61",
   "metadata": {},
   "outputs": [
    {
     "data": {
      "text/plain": [
       "'vicky'"
      ]
     },
     "execution_count": 22,
     "metadata": {},
     "output_type": "execute_result"
    }
   ],
   "source": [
    "s[2]"
   ]
  },
  {
   "cell_type": "code",
   "execution_count": 23,
   "id": "a5261f7e",
   "metadata": {},
   "outputs": [
    {
     "data": {
      "text/plain": [
       "4"
      ]
     },
     "execution_count": 23,
     "metadata": {},
     "output_type": "execute_result"
    }
   ],
   "source": [
    "s[6]"
   ]
  },
  {
   "cell_type": "code",
   "execution_count": 24,
   "id": "cc5c0900",
   "metadata": {},
   "outputs": [
    {
     "ename": "SyntaxError",
     "evalue": "invalid syntax (473388368.py, line 1)",
     "output_type": "error",
     "traceback": [
      "\u001b[1;36m  Cell \u001b[1;32mIn[24], line 1\u001b[1;36m\u001b[0m\n\u001b[1;33m    s{4}\u001b[0m\n\u001b[1;37m     ^\u001b[0m\n\u001b[1;31mSyntaxError\u001b[0m\u001b[1;31m:\u001b[0m invalid syntax\n"
     ]
    }
   ],
   "source": [
    "s{4}"
   ]
  },
  {
   "cell_type": "code",
   "execution_count": 25,
   "id": "e4d4bfbc",
   "metadata": {},
   "outputs": [
    {
     "data": {
      "text/plain": [
       "4"
      ]
     },
     "execution_count": 25,
     "metadata": {},
     "output_type": "execute_result"
    }
   ],
   "source": [
    "s[6]"
   ]
  },
  {
   "cell_type": "code",
   "execution_count": 26,
   "id": "ae39c602",
   "metadata": {},
   "outputs": [
    {
     "data": {
      "text/plain": [
       "88.22"
      ]
     },
     "execution_count": 26,
     "metadata": {},
     "output_type": "execute_result"
    }
   ],
   "source": [
    "s[5][3]"
   ]
  },
  {
   "cell_type": "code",
   "execution_count": 27,
   "id": "54aa960c",
   "metadata": {},
   "outputs": [
    {
     "data": {
      "text/plain": [
       "['nampy', 'lack', 229.333, 88.22, 7281, ['arm', 'geology', 28], 6]"
      ]
     },
     "execution_count": 27,
     "metadata": {},
     "output_type": "execute_result"
    }
   ],
   "source": [
    "s[-2]"
   ]
  },
  {
   "cell_type": "code",
   "execution_count": 28,
   "id": "7ebc395b",
   "metadata": {},
   "outputs": [
    {
     "data": {
      "text/plain": [
       "7281"
      ]
     },
     "execution_count": 28,
     "metadata": {},
     "output_type": "execute_result"
    }
   ],
   "source": [
    "s[-2][-3]"
   ]
  },
  {
   "cell_type": "code",
   "execution_count": 29,
   "id": "804e887a",
   "metadata": {},
   "outputs": [
    {
     "data": {
      "text/plain": [
       "['arm', 'geology', 28]"
      ]
     },
     "execution_count": 29,
     "metadata": {},
     "output_type": "execute_result"
    }
   ],
   "source": [
    "s[5][-2]"
   ]
  },
  {
   "cell_type": "code",
   "execution_count": 30,
   "id": "f1fc2062",
   "metadata": {},
   "outputs": [
    {
     "ename": "TypeError",
     "evalue": "'int' object is not subscriptable",
     "output_type": "error",
     "traceback": [
      "\u001b[1;31m---------------------------------------------------------------------------\u001b[0m",
      "\u001b[1;31mTypeError\u001b[0m                                 Traceback (most recent call last)",
      "Cell \u001b[1;32mIn[30], line 1\u001b[0m\n\u001b[1;32m----> 1\u001b[0m \u001b[43ms\u001b[49m\u001b[43m[\u001b[49m\u001b[38;5;241;43m5\u001b[39;49m\u001b[43m]\u001b[49m\u001b[43m[\u001b[49m\u001b[38;5;241;43m-\u001b[39;49m\u001b[38;5;241;43m1\u001b[39;49m\u001b[43m]\u001b[49m\u001b[43m[\u001b[49m\u001b[38;5;241;43m-\u001b[39;49m\u001b[38;5;241;43m3\u001b[39;49m\u001b[43m]\u001b[49m\n",
      "\u001b[1;31mTypeError\u001b[0m: 'int' object is not subscriptable"
     ]
    }
   ],
   "source": [
    "s[5][-1][-3]"
   ]
  },
  {
   "cell_type": "code",
   "execution_count": 31,
   "id": "bdacdd2e",
   "metadata": {},
   "outputs": [
    {
     "ename": "TypeError",
     "evalue": "'int' object is not subscriptable",
     "output_type": "error",
     "traceback": [
      "\u001b[1;31m---------------------------------------------------------------------------\u001b[0m",
      "\u001b[1;31mTypeError\u001b[0m                                 Traceback (most recent call last)",
      "Cell \u001b[1;32mIn[31], line 1\u001b[0m\n\u001b[1;32m----> 1\u001b[0m \u001b[43ms\u001b[49m\u001b[43m[\u001b[49m\u001b[38;5;241;43m5\u001b[39;49m\u001b[43m]\u001b[49m\u001b[43m[\u001b[49m\u001b[38;5;241;43m-\u001b[39;49m\u001b[38;5;241;43m1\u001b[39;49m\u001b[43m]\u001b[49m\u001b[43m[\u001b[49m\u001b[38;5;241;43m-\u001b[39;49m\u001b[38;5;241;43m2\u001b[39;49m\u001b[43m]\u001b[49m\n",
      "\u001b[1;31mTypeError\u001b[0m: 'int' object is not subscriptable"
     ]
    }
   ],
   "source": [
    "s[5][-1][-2]"
   ]
  },
  {
   "cell_type": "code",
   "execution_count": 32,
   "id": "c96b7240",
   "metadata": {},
   "outputs": [
    {
     "ename": "TypeError",
     "evalue": "object of type 'int' has no len()",
     "output_type": "error",
     "traceback": [
      "\u001b[1;31m---------------------------------------------------------------------------\u001b[0m",
      "\u001b[1;31mTypeError\u001b[0m                                 Traceback (most recent call last)",
      "Cell \u001b[1;32mIn[32], line 1\u001b[0m\n\u001b[1;32m----> 1\u001b[0m \u001b[38;5;28;43mlen\u001b[39;49m\u001b[43m(\u001b[49m\u001b[38;5;241;43m2\u001b[39;49m\u001b[43m)\u001b[49m\n",
      "\u001b[1;31mTypeError\u001b[0m: object of type 'int' has no len()"
     ]
    }
   ],
   "source": [
    "len(2)"
   ]
  },
  {
   "cell_type": "code",
   "execution_count": 33,
   "id": "a06a9d94",
   "metadata": {},
   "outputs": [
    {
     "data": {
      "text/plain": [
       "7"
      ]
     },
     "execution_count": 33,
     "metadata": {},
     "output_type": "execute_result"
    }
   ],
   "source": [
    "len (s)"
   ]
  },
  {
   "cell_type": "code",
   "execution_count": 34,
   "id": "1b031c43",
   "metadata": {},
   "outputs": [
    {
     "data": {
      "text/plain": [
       "7"
      ]
     },
     "execution_count": 34,
     "metadata": {},
     "output_type": "execute_result"
    }
   ],
   "source": [
    "len (s[5])"
   ]
  },
  {
   "cell_type": "code",
   "execution_count": 36,
   "id": "a7db39a0",
   "metadata": {},
   "outputs": [
    {
     "name": "stderr",
     "output_type": "stream",
     "text": [
      "<>:1: SyntaxWarning: 'int' object is not subscriptable; perhaps you missed a comma?\n",
      "<>:1: SyntaxWarning: 'int' object is not subscriptable; perhaps you missed a comma?\n",
      "C:\\Users\\LenovoX1\\AppData\\Local\\Temp\\ipykernel_9876\\1662550728.py:1: SyntaxWarning: 'int' object is not subscriptable; perhaps you missed a comma?\n",
      "  len (s[5[2]])\n",
      "C:\\Users\\LenovoX1\\AppData\\Local\\Temp\\ipykernel_9876\\1662550728.py:1: SyntaxWarning: 'int' object is not subscriptable; perhaps you missed a comma?\n",
      "  len (s[5[2]])\n",
      "C:\\Users\\LenovoX1\\AppData\\Local\\Temp\\ipykernel_9876\\1662550728.py:1: SyntaxWarning: 'int' object is not subscriptable; perhaps you missed a comma?\n",
      "  len (s[5[2]])\n",
      "C:\\Users\\LenovoX1\\AppData\\Local\\Temp\\ipykernel_9876\\1662550728.py:1: SyntaxWarning: 'int' object is not subscriptable; perhaps you missed a comma?\n",
      "  len (s[5[2]])\n"
     ]
    },
    {
     "ename": "TypeError",
     "evalue": "'int' object is not subscriptable",
     "output_type": "error",
     "traceback": [
      "\u001b[1;31m---------------------------------------------------------------------------\u001b[0m",
      "\u001b[1;31mTypeError\u001b[0m                                 Traceback (most recent call last)",
      "Cell \u001b[1;32mIn[36], line 1\u001b[0m\n\u001b[1;32m----> 1\u001b[0m \u001b[38;5;28mlen\u001b[39m (s[\u001b[38;5;241;43m5\u001b[39;49m\u001b[43m[\u001b[49m\u001b[38;5;241;43m2\u001b[39;49m\u001b[43m]\u001b[49m])\n",
      "\u001b[1;31mTypeError\u001b[0m: 'int' object is not subscriptable"
     ]
    }
   ],
   "source": [
    "len (s[5[2]])"
   ]
  },
  {
   "cell_type": "code",
   "execution_count": 38,
   "id": "aa1e1140",
   "metadata": {},
   "outputs": [
    {
     "ename": "SyntaxError",
     "evalue": "invalid syntax (554024005.py, line 1)",
     "output_type": "error",
     "traceback": [
      "\u001b[1;36m  Cell \u001b[1;32mIn[38], line 1\u001b[1;36m\u001b[0m\n\u001b[1;33m    len s[5[5]]\u001b[0m\n\u001b[1;37m        ^\u001b[0m\n\u001b[1;31mSyntaxError\u001b[0m\u001b[1;31m:\u001b[0m invalid syntax\n"
     ]
    }
   ],
   "source": [
    "len s[5[5]]"
   ]
  },
  {
   "cell_type": "code",
   "execution_count": 40,
   "id": "926824f0",
   "metadata": {},
   "outputs": [
    {
     "ename": "TypeError",
     "evalue": "object of type 'float' has no len()",
     "output_type": "error",
     "traceback": [
      "\u001b[1;31m---------------------------------------------------------------------------\u001b[0m",
      "\u001b[1;31mTypeError\u001b[0m                                 Traceback (most recent call last)",
      "Cell \u001b[1;32mIn[40], line 1\u001b[0m\n\u001b[1;32m----> 1\u001b[0m \u001b[38;5;28;43mlen\u001b[39;49m\u001b[43m \u001b[49m\u001b[43m(\u001b[49m\u001b[43ms\u001b[49m\u001b[43m[\u001b[49m\u001b[38;5;241;43m5\u001b[39;49m\u001b[43m]\u001b[49m\u001b[43m[\u001b[49m\u001b[38;5;241;43m2\u001b[39;49m\u001b[43m]\u001b[49m\u001b[43m)\u001b[49m\n",
      "\u001b[1;31mTypeError\u001b[0m: object of type 'float' has no len()"
     ]
    }
   ],
   "source": [
    "len (s[5][2]) #Here i want to find length of 5th elements 6th element"
   ]
  },
  {
   "cell_type": "code",
   "execution_count": 43,
   "id": "33fc8230",
   "metadata": {},
   "outputs": [
    {
     "ename": "TypeError",
     "evalue": "object of type 'int' has no len()",
     "output_type": "error",
     "traceback": [
      "\u001b[1;31m---------------------------------------------------------------------------\u001b[0m",
      "\u001b[1;31mTypeError\u001b[0m                                 Traceback (most recent call last)",
      "Cell \u001b[1;32mIn[43], line 1\u001b[0m\n\u001b[1;32m----> 1\u001b[0m \u001b[38;5;28;43mlen\u001b[39;49m\u001b[43m \u001b[49m\u001b[43m(\u001b[49m\u001b[43ms\u001b[49m\u001b[43m[\u001b[49m\u001b[38;5;241;43m5\u001b[39;49m\u001b[43m]\u001b[49m\u001b[43m[\u001b[49m\u001b[38;5;241;43m6\u001b[39;49m\u001b[43m]\u001b[49m\u001b[43m)\u001b[49m\n",
      "\u001b[1;31mTypeError\u001b[0m: object of type 'int' has no len()"
     ]
    }
   ],
   "source": [
    "len (s[5][6])"
   ]
  },
  {
   "cell_type": "code",
   "execution_count": 45,
   "id": "cbab0430",
   "metadata": {},
   "outputs": [
    {
     "data": {
      "text/plain": [
       "3"
      ]
     },
     "execution_count": 45,
     "metadata": {},
     "output_type": "execute_result"
    }
   ],
   "source": [
    "len (s[5][5])"
   ]
  },
  {
   "cell_type": "code",
   "execution_count": 47,
   "id": "805f463f",
   "metadata": {},
   "outputs": [
    {
     "data": {
      "text/plain": [
       "'vicky'"
      ]
     },
     "execution_count": 47,
     "metadata": {},
     "output_type": "execute_result"
    }
   ],
   "source": [
    "s[2]"
   ]
  },
  {
   "cell_type": "code",
   "execution_count": 50,
   "id": "e2aaed7a",
   "metadata": {},
   "outputs": [],
   "source": [
    "s[2] = 99"
   ]
  },
  {
   "cell_type": "code",
   "execution_count": 52,
   "id": "37d370f3",
   "metadata": {},
   "outputs": [
    {
     "data": {
      "text/plain": [
       "[2.3,\n",
       " 'jack',\n",
       " 99,\n",
       " 892.34,\n",
       " 'oil',\n",
       " ['nampy', 'lack', 229.333, 88.22, 7281, ['arm', 'geology', 28], 6],\n",
       " 4]"
      ]
     },
     "execution_count": 52,
     "metadata": {},
     "output_type": "execute_result"
    }
   ],
   "source": [
    "s # WHy here data is printed line by line?"
   ]
  },
  {
   "cell_type": "code",
   "execution_count": 53,
   "id": "c00a4365",
   "metadata": {},
   "outputs": [
    {
     "data": {
      "text/plain": [
       "[99, 892.34, 'oil']"
      ]
     },
     "execution_count": 53,
     "metadata": {},
     "output_type": "execute_result"
    }
   ],
   "source": [
    "s[2:5]"
   ]
  },
  {
   "cell_type": "code",
   "execution_count": 55,
   "id": "f256500c",
   "metadata": {},
   "outputs": [
    {
     "data": {
      "text/plain": [
       "['oil', ['nampy', 'lack', 229.333, 88.22, 7281, ['arm', 'geology', 28], 6], 4]"
      ]
     },
     "execution_count": 55,
     "metadata": {},
     "output_type": "execute_result"
    }
   ],
   "source": [
    "s[4:]"
   ]
  },
  {
   "cell_type": "code",
   "execution_count": 57,
   "id": "3dcc50ca",
   "metadata": {},
   "outputs": [
    {
     "ename": "NameError",
     "evalue": "name 'S' is not defined",
     "output_type": "error",
     "traceback": [
      "\u001b[1;31m---------------------------------------------------------------------------\u001b[0m",
      "\u001b[1;31mNameError\u001b[0m                                 Traceback (most recent call last)",
      "Cell \u001b[1;32mIn[57], line 1\u001b[0m\n\u001b[1;32m----> 1\u001b[0m \u001b[43mS\u001b[49m[ :\u001b[38;5;241m6\u001b[39m]\n",
      "\u001b[1;31mNameError\u001b[0m: name 'S' is not defined"
     ]
    }
   ],
   "source": [
    "S[ :6]"
   ]
  },
  {
   "cell_type": "code",
   "execution_count": 59,
   "id": "7858b89e",
   "metadata": {},
   "outputs": [
    {
     "data": {
      "text/plain": [
       "[2.3, 'jack', 99, 892.34]"
      ]
     },
     "execution_count": 59,
     "metadata": {},
     "output_type": "execute_result"
    }
   ],
   "source": [
    "s[:4]"
   ]
  },
  {
   "cell_type": "code",
   "execution_count": 61,
   "id": "38785cc0",
   "metadata": {},
   "outputs": [
    {
     "data": {
      "text/plain": [
       "[2.3,\n",
       " 'jack',\n",
       " 99,\n",
       " 892.34,\n",
       " 'oil',\n",
       " ['nampy', 'lack', 229.333, 88.22, 7281, ['arm', 'geology', 28], 6]]"
      ]
     },
     "execution_count": 61,
     "metadata": {},
     "output_type": "execute_result"
    }
   ],
   "source": [
    "s[:6]"
   ]
  },
  {
   "cell_type": "code",
   "execution_count": 63,
   "id": "60788fef",
   "metadata": {},
   "outputs": [
    {
     "ename": "SyntaxError",
     "evalue": "invalid syntax (2593060367.py, line 1)",
     "output_type": "error",
     "traceback": [
      "\u001b[1;36m  Cell \u001b[1;32mIn[63], line 1\u001b[1;36m\u001b[0m\n\u001b[1;33m    s[2:6;3]\u001b[0m\n\u001b[1;37m         ^\u001b[0m\n\u001b[1;31mSyntaxError\u001b[0m\u001b[1;31m:\u001b[0m invalid syntax\n"
     ]
    }
   ],
   "source": [
    "s[2:6;3]"
   ]
  },
  {
   "cell_type": "code",
   "execution_count": 66,
   "id": "649a7b45",
   "metadata": {},
   "outputs": [
    {
     "data": {
      "text/plain": [
       "[99, ['nampy', 'lack', 229.333, 88.22, 7281, ['arm', 'geology', 28], 6]]"
      ]
     },
     "execution_count": 66,
     "metadata": {},
     "output_type": "execute_result"
    }
   ],
   "source": [
    "s[2:6:3]"
   ]
  },
  {
   "cell_type": "code",
   "execution_count": 68,
   "id": "0d494261",
   "metadata": {},
   "outputs": [
    {
     "data": {
      "text/plain": [
       "[2.3,\n",
       " 'jack',\n",
       " 99,\n",
       " 892.34,\n",
       " 'oil',\n",
       " ['nampy', 'lack', 229.333, 88.22, 7281, ['arm', 'geology', 28], 6],\n",
       " 4]"
      ]
     },
     "execution_count": 68,
     "metadata": {},
     "output_type": "execute_result"
    }
   ],
   "source": [
    "s[0:100]"
   ]
  },
  {
   "cell_type": "code",
   "execution_count": 70,
   "id": "ad2df01f",
   "metadata": {},
   "outputs": [
    {
     "data": {
      "text/plain": [
       "[4]"
      ]
     },
     "execution_count": 70,
     "metadata": {},
     "output_type": "execute_result"
    }
   ],
   "source": [
    "s[-1:8:2]"
   ]
  },
  {
   "cell_type": "code",
   "execution_count": 75,
   "id": "846bcc85",
   "metadata": {},
   "outputs": [
    {
     "data": {
      "text/plain": [
       "['nampy', 'lack', 229.333, 88.22, 7281, ['arm', 'geology', 28], 6]"
      ]
     },
     "execution_count": 75,
     "metadata": {},
     "output_type": "execute_result"
    }
   ],
   "source": [
    "s[5][::]"
   ]
  },
  {
   "cell_type": "code",
   "execution_count": 77,
   "id": "5cde013e",
   "metadata": {},
   "outputs": [
    {
     "data": {
      "text/plain": [
       "['nampy', 229.333, 7281, 6]"
      ]
     },
     "execution_count": 77,
     "metadata": {},
     "output_type": "execute_result"
    }
   ],
   "source": [
    "s[5][::2]"
   ]
  },
  {
   "cell_type": "code",
   "execution_count": 79,
   "id": "8436d843",
   "metadata": {},
   "outputs": [
    {
     "data": {
      "text/plain": [
       "[6, ['arm', 'geology', 28], 7281, 88.22, 229.333, 'lack', 'nampy']"
      ]
     },
     "execution_count": 79,
     "metadata": {},
     "output_type": "execute_result"
    }
   ],
   "source": [
    "s[5][::-1]"
   ]
  },
  {
   "cell_type": "code",
   "execution_count": 86,
   "id": "499e3a91",
   "metadata": {},
   "outputs": [],
   "source": [
    "Oil_API =[]"
   ]
  },
  {
   "cell_type": "code",
   "execution_count": 87,
   "id": "2b2fe6de",
   "metadata": {},
   "outputs": [],
   "source": [
    "Oil_API.append(2.9)"
   ]
  },
  {
   "cell_type": "code",
   "execution_count": 88,
   "id": "92db86e3",
   "metadata": {},
   "outputs": [],
   "source": [
    "Oil_API.append(2.9)"
   ]
  },
  {
   "cell_type": "code",
   "execution_count": 90,
   "id": "5f92efc3",
   "metadata": {},
   "outputs": [],
   "source": [
    "Oil_API = []"
   ]
  },
  {
   "cell_type": "code",
   "execution_count": 93,
   "id": "8c0e7e8e",
   "metadata": {},
   "outputs": [],
   "source": [
    "Oil_API.append(7.2) #its not Printing"
   ]
  },
  {
   "cell_type": "code",
   "execution_count": 94,
   "id": "e7ffca39",
   "metadata": {},
   "outputs": [],
   "source": [
    "a = []"
   ]
  },
  {
   "cell_type": "code",
   "execution_count": 97,
   "id": "d172f06f",
   "metadata": {},
   "outputs": [],
   "source": [
    "a.append(22)"
   ]
  },
  {
   "cell_type": "code",
   "execution_count": 99,
   "id": "c5345772",
   "metadata": {},
   "outputs": [],
   "source": [
    "c = [1,4,5,8,'oil',22]"
   ]
  },
  {
   "cell_type": "code",
   "execution_count": 101,
   "id": "36913f4e",
   "metadata": {},
   "outputs": [
    {
     "data": {
      "text/plain": [
       "[1, 4, 5, 8, 'oil', 22]"
      ]
     },
     "execution_count": 101,
     "metadata": {},
     "output_type": "execute_result"
    }
   ],
   "source": [
    "c"
   ]
  },
  {
   "cell_type": "code",
   "execution_count": 102,
   "id": "fee0fadc",
   "metadata": {},
   "outputs": [],
   "source": [
    "c.insert(4,\"geology\")"
   ]
  },
  {
   "cell_type": "code",
   "execution_count": 104,
   "id": "7d35f157",
   "metadata": {},
   "outputs": [
    {
     "data": {
      "text/plain": [
       "[1, 4, 5, 8, 'geology', 'oil', 22]"
      ]
     },
     "execution_count": 104,
     "metadata": {},
     "output_type": "execute_result"
    }
   ],
   "source": [
    "c"
   ]
  },
  {
   "cell_type": "code",
   "execution_count": 106,
   "id": "a6500cad",
   "metadata": {},
   "outputs": [],
   "source": [
    "l = [9,2,5,6]\n",
    "k = [3,7,6,5]"
   ]
  },
  {
   "cell_type": "code",
   "execution_count": 109,
   "id": "fa0a5c18",
   "metadata": {},
   "outputs": [],
   "source": [
    "g = l+k"
   ]
  },
  {
   "cell_type": "code",
   "execution_count": 110,
   "id": "7dd8bd2e",
   "metadata": {},
   "outputs": [
    {
     "data": {
      "text/plain": [
       "[9, 2, 5, 6, 3, 7, 6, 5]"
      ]
     },
     "execution_count": 110,
     "metadata": {},
     "output_type": "execute_result"
    }
   ],
   "source": [
    "g"
   ]
  },
  {
   "cell_type": "code",
   "execution_count": 112,
   "id": "9a77e31a",
   "metadata": {},
   "outputs": [
    {
     "data": {
      "text/plain": [
       "[9, 2, 5, 6, 3, 7, 6, 5, 9, 2, 5, 6, 3, 7, 6, 5, 9, 2, 5, 6, 3, 7, 6, 5]"
      ]
     },
     "execution_count": 112,
     "metadata": {},
     "output_type": "execute_result"
    }
   ],
   "source": [
    "g*3"
   ]
  },
  {
   "cell_type": "code",
   "execution_count": 113,
   "id": "815bea35",
   "metadata": {},
   "outputs": [],
   "source": [
    "j = \"Oil\"\n",
    "f = \"and\"\n",
    "p = \"Gas\""
   ]
  },
  {
   "cell_type": "code",
   "execution_count": 115,
   "id": "301781d2",
   "metadata": {},
   "outputs": [
    {
     "data": {
      "text/plain": [
       "'OilandGas'"
      ]
     },
     "execution_count": 115,
     "metadata": {},
     "output_type": "execute_result"
    }
   ],
   "source": [
    "j+f+p"
   ]
  },
  {
   "cell_type": "code",
   "execution_count": 117,
   "id": "14e6c1ae",
   "metadata": {},
   "outputs": [
    {
     "data": {
      "text/plain": [
       "'OilandGas'"
      ]
     },
     "execution_count": 117,
     "metadata": {},
     "output_type": "execute_result"
    }
   ],
   "source": [
    "j + f + p"
   ]
  },
  {
   "cell_type": "code",
   "execution_count": 119,
   "id": "4f68d0de",
   "metadata": {},
   "outputs": [
    {
     "data": {
      "text/plain": [
       "range(0, 20)"
      ]
     },
     "execution_count": 119,
     "metadata": {},
     "output_type": "execute_result"
    }
   ],
   "source": [
    "range(20)"
   ]
  },
  {
   "cell_type": "code",
   "execution_count": 121,
   "id": "62cffae3",
   "metadata": {},
   "outputs": [
    {
     "data": {
      "text/plain": [
       "[0, 1, 2, 3, 4, 5, 6, 7, 8]"
      ]
     },
     "execution_count": 121,
     "metadata": {},
     "output_type": "execute_result"
    }
   ],
   "source": [
    "list(range(9))"
   ]
  },
  {
   "cell_type": "code",
   "execution_count": 122,
   "id": "3b6df376",
   "metadata": {},
   "outputs": [
    {
     "ename": "NameError",
     "evalue": "name 'z' is not defined",
     "output_type": "error",
     "traceback": [
      "\u001b[1;31m---------------------------------------------------------------------------\u001b[0m",
      "\u001b[1;31mNameError\u001b[0m                                 Traceback (most recent call last)",
      "Cell \u001b[1;32mIn[122], line 1\u001b[0m\n\u001b[1;32m----> 1\u001b[0m \u001b[38;5;28mrange\u001b[39m(\u001b[43mz\u001b[49m)\n",
      "\u001b[1;31mNameError\u001b[0m: name 'z' is not defined"
     ]
    }
   ],
   "source": [
    "range(z)"
   ]
  },
  {
   "cell_type": "code",
   "execution_count": 123,
   "id": "1c7e176b",
   "metadata": {},
   "outputs": [
    {
     "data": {
      "text/plain": [
       "range(0, 19837)"
      ]
     },
     "execution_count": 123,
     "metadata": {},
     "output_type": "execute_result"
    }
   ],
   "source": [
    "range(19837)"
   ]
  },
  {
   "cell_type": "code",
   "execution_count": 125,
   "id": "fe1663aa",
   "metadata": {},
   "outputs": [
    {
     "ename": "TypeError",
     "evalue": "'type' object is not subscriptable",
     "output_type": "error",
     "traceback": [
      "\u001b[1;31m---------------------------------------------------------------------------\u001b[0m",
      "\u001b[1;31mTypeError\u001b[0m                                 Traceback (most recent call last)",
      "Cell \u001b[1;32mIn[125], line 1\u001b[0m\n\u001b[1;32m----> 1\u001b[0m \u001b[38;5;28mlist\u001b[39m(\u001b[38;5;28;43mrange\u001b[39;49m\u001b[43m[\u001b[49m\u001b[38;5;241;43m1\u001b[39;49m\u001b[43m:\u001b[49m\u001b[38;5;241;43m3049\u001b[39;49m\u001b[43m:\u001b[49m\u001b[38;5;241;43m50\u001b[39;49m\u001b[43m]\u001b[49m)\n",
      "\u001b[1;31mTypeError\u001b[0m: 'type' object is not subscriptable"
     ]
    }
   ],
   "source": [
    "list(range[1:3049:50])"
   ]
  },
  {
   "cell_type": "code",
   "execution_count": 129,
   "id": "722e0cbc",
   "metadata": {},
   "outputs": [
    {
     "data": {
      "text/plain": [
       "[33,\n",
       " 133,\n",
       " 233,\n",
       " 333,\n",
       " 433,\n",
       " 533,\n",
       " 633,\n",
       " 733,\n",
       " 833,\n",
       " 933,\n",
       " 1033,\n",
       " 1133,\n",
       " 1233,\n",
       " 1333,\n",
       " 1433,\n",
       " 1533,\n",
       " 1633,\n",
       " 1733,\n",
       " 1833,\n",
       " 1933]"
      ]
     },
     "execution_count": 129,
     "metadata": {},
     "output_type": "execute_result"
    }
   ],
   "source": [
    "list(range(33,2020,100))"
   ]
  },
  {
   "cell_type": "code",
   "execution_count": 131,
   "id": "716b0ea3",
   "metadata": {},
   "outputs": [
    {
     "data": {
      "text/plain": [
       "[9209, 11209, 13209]"
      ]
     },
     "execution_count": 131,
     "metadata": {},
     "output_type": "execute_result"
    }
   ],
   "source": [
    "list(range(9209,15000,2000))"
   ]
  },
  {
   "cell_type": "code",
   "execution_count": 133,
   "id": "534d37b5",
   "metadata": {},
   "outputs": [
    {
     "name": "stdout",
     "output_type": "stream",
     "text": [
      "porosity: 20\n",
      "permeability 22\n",
      "Void 34\n"
     ]
    }
   ],
   "source": [
    "q = input('porosity: ')\n",
    "w = input('permeability ')\n",
    "e = input('Void ')"
   ]
  },
  {
   "cell_type": "code",
   "execution_count": 135,
   "id": "ddf6c4d4",
   "metadata": {},
   "outputs": [
    {
     "ename": "TypeError",
     "evalue": "'str' object cannot be interpreted as an integer",
     "output_type": "error",
     "traceback": [
      "\u001b[1;31m---------------------------------------------------------------------------\u001b[0m",
      "\u001b[1;31mTypeError\u001b[0m                                 Traceback (most recent call last)",
      "Cell \u001b[1;32mIn[135], line 1\u001b[0m\n\u001b[1;32m----> 1\u001b[0m \u001b[38;5;28mlist\u001b[39m(\u001b[38;5;28;43mrange\u001b[39;49m\u001b[43m(\u001b[49m\u001b[43mq\u001b[49m\u001b[43m,\u001b[49m\u001b[43mw\u001b[49m\u001b[43m,\u001b[49m\u001b[43me\u001b[49m\u001b[43m)\u001b[49m)\n",
      "\u001b[1;31mTypeError\u001b[0m: 'str' object cannot be interpreted as an integer"
     ]
    }
   ],
   "source": [
    "list(range(q,w,e))"
   ]
  },
  {
   "cell_type": "code",
   "execution_count": 136,
   "id": "aa2e21e4",
   "metadata": {},
   "outputs": [
    {
     "name": "stdout",
     "output_type": "stream",
     "text": [
      "porosity: 0\n",
      "permeability 100\n",
      "Void 20\n"
     ]
    }
   ],
   "source": [
    "q = int(input('porosity: '))\n",
    "w = int(input('permeability '))\n",
    "e = int(input('Void '))"
   ]
  },
  {
   "cell_type": "raw",
   "id": "f66e90d1",
   "metadata": {},
   "source": []
  },
  {
   "cell_type": "code",
   "execution_count": 137,
   "id": "eac2a844",
   "metadata": {},
   "outputs": [
    {
     "data": {
      "text/plain": [
       "[0, 20, 40, 60, 80]"
      ]
     },
     "execution_count": 137,
     "metadata": {},
     "output_type": "execute_result"
    }
   ],
   "source": [
    "list(range(q,w,e))"
   ]
  }
 ],
 "metadata": {
  "kernelspec": {
   "display_name": "Python 3 (ipykernel)",
   "language": "python",
   "name": "python3"
  },
  "language_info": {
   "codemirror_mode": {
    "name": "ipython",
    "version": 3
   },
   "file_extension": ".py",
   "mimetype": "text/x-python",
   "name": "python",
   "nbconvert_exporter": "python",
   "pygments_lexer": "ipython3",
   "version": "3.10.9"
  }
 },
 "nbformat": 4,
 "nbformat_minor": 5
}
